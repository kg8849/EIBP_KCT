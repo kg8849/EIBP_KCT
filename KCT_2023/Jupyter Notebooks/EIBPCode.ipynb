{
 "cells": [
  {
   "cell_type": "markdown",
   "id": "3f6e805a-b424-467c-9804-515fc791787e",
   "metadata": {
    "tags": []
   },
   "source": [
    "# Prepare Code to be Run on EIBP Nodes"
   ]
  },
  {
   "cell_type": "markdown",
   "id": "afde3953-6a77-4959-b953-fda62daf9a75",
   "metadata": {},
   "source": [
    "## Input Required Information\n",
    "\n",
    "| Variable | Use |\n",
    "| --- | --- |\n",
    "| SLICE_NAME    | Name of the slice you wish to work on. |\n",
    "| CONFIG_FILE | Configuration file for the DCN nodes. |\n",
    "| CODE_DIR | Directory of the MTP source code. |"
   ]
  },
  {
   "cell_type": "code",
   "execution_count": 1,
   "id": "1f37ce88-0f0d-431b-8506-946f5dbf09a5",
   "metadata": {},
   "outputs": [],
   "source": [
    "SLICE_NAME = \"eibp-small-abhay\"\n",
    "CODE_DIR = \"/home/fabric/work/MNLR_Code\""
   ]
  },
  {
   "cell_type": "markdown",
   "id": "3be33fec-20fd-4a94-8953-a090e6f48cba",
   "metadata": {
    "tags": []
   },
   "source": [
    "## Access the Slice\n",
    "\n",
    "The orchestrator class is initalized, which also means the slice and its nodes are now accessable as well."
   ]
  },
  {
   "cell_type": "code",
   "execution_count": 2,
   "id": "d2e26f90-77a5-48c5-87ad-76c778c4a0f5",
   "metadata": {},
   "outputs": [
    {
     "name": "stdout",
     "output_type": "stream",
     "text": [
      "Slice name: eibp-small-abhay\n",
      "Slice and nodes were acquired successfully.\n"
     ]
    }
   ],
   "source": [
    "from FabUtils import FabOrchestrator\n",
    "\n",
    "try:\n",
    "    manager = FabOrchestrator(SLICE_NAME)\n",
    "    \n",
    "except Exception as e:\n",
    "    print(f\"Exception: {e}\")"
   ]
  },
  {
   "cell_type": "markdown",
   "id": "ab9c294c-3b99-4fb1-885f-f46df78ecd92",
   "metadata": {},
   "source": [
    "## Removing Existing Code on nodes(if any)"
   ]
  },
  {
   "cell_type": "markdown",
   "id": "3bcdfdfe-a41b-4f9a-96f2-339e69ea3ee3",
   "metadata": {},
   "source": [
    "Deletes old code on the node from previous uploads"
   ]
  },
  {
   "cell_type": "code",
   "execution_count": 3,
   "id": "67804819-be37-4e02-a894-b3a955ae95d7",
   "metadata": {},
   "outputs": [
    {
     "name": "stdout",
     "output_type": "stream",
     "text": [
      "Starting command on node c1\n",
      "Command to execute: rm -rf MNLR_Code/\n",
      "Starting command on node d1\n",
      "Command to execute: rm -rf MNLR_Code/\n",
      "Starting command on node d2\n",
      "Command to execute: rm -rf MNLR_Code/\n",
      "Starting command on node a1\n",
      "Command to execute: rm -rf MNLR_Code/\n",
      "Starting command on node a2\n",
      "Command to execute: rm -rf MNLR_Code/\n",
      "Waiting for result from node c1\n",
      "stdout: \n",
      "stderr: \n",
      "Waiting for result from node d1\n",
      "stdout: \n",
      "stderr: \n",
      "Waiting for result from node d2\n",
      "stdout: \n",
      "stderr: \n",
      "Waiting for result from node a1\n",
      "stdout: \n",
      "stderr: \n",
      "Waiting for result from node a2\n",
      "stdout: \n",
      "stderr: \n"
     ]
    }
   ],
   "source": [
    "rmCodeCmd = \"rm -rf MNLR_Code/\"\n",
    "manager.executeCommandsParallel(rmCodeCmd, prefixList=\"a,d,c\")"
   ]
  },
  {
   "cell_type": "markdown",
   "id": "170b0a46-482a-40db-8cc4-d73e81595845",
   "metadata": {},
   "source": [
    "## Upload the Source Code"
   ]
  },
  {
   "cell_type": "code",
   "execution_count": 4,
   "id": "780a516b-f0b8-4d6b-bfdf-9dcdb5c4eab9",
   "metadata": {},
   "outputs": [
    {
     "name": "stdout",
     "output_type": "stream",
     "text": [
      "Directory to upload: /home/fabric/work/MNLR_Code\n",
      "Placed in: /home/rocky\n",
      "Starting upload on node c1\n",
      "Starting upload on node d1\n",
      "Starting upload on node d2\n",
      "Starting upload on node a1\n",
      "Starting upload on node a2\n",
      "Waiting for result from node c1\n",
      "Output: success\n",
      "Waiting for result from node d1\n",
      "Output: success\n",
      "Waiting for result from node d2\n",
      "Output: success\n",
      "Waiting for result from node a1\n",
      "Output: success\n",
      "Waiting for result from node a2\n",
      "Output: success\n"
     ]
    }
   ],
   "source": [
    "manager.uploadDirectoryParallel(CODE_DIR, prefixList=\"a,d,c\")"
   ]
  },
  {
   "cell_type": "markdown",
   "id": "2ba688f6-14d1-4338-85ce-750b6874b88c",
   "metadata": {},
   "source": [
    "## Compile the Code"
   ]
  },
  {
   "cell_type": "code",
   "execution_count": null,
   "id": "fc75e45c-f400-4d0d-848b-5a800019c259",
   "metadata": {},
   "outputs": [
    {
     "name": "stdout",
     "output_type": "stream",
     "text": [
      "Starting command on node c1\n",
      "Command to execute: cd MNLR_Code/; gcc -g -o MNLR *.c -lm\n",
      "Starting command on node d1\n",
      "Command to execute: cd MNLR_Code/; gcc -g -o MNLR *.c -lm\n",
      "Starting command on node d2\n",
      "Command to execute: cd MNLR_Code/; gcc -g -o MNLR *.c -lm\n",
      "Starting command on node a1\n",
      "Command to execute: cd MNLR_Code/; gcc -g -o MNLR *.c -lm\n",
      "Starting command on node a2\n",
      "Command to execute: cd MNLR_Code/; gcc -g -o MNLR *.c -lm\n",
      "Waiting for result from node c1\n"
     ]
    }
   ],
   "source": [
    "compileCmd = \"cd MNLR_Code/; gcc -g -o MNLR *.c -lm\"\n",
    "manager.executeCommandsParallel(compileCmd, prefixList=\"a,d,c\")"
   ]
  },
  {
   "cell_type": "code",
   "execution_count": null,
   "id": "ded0bbd6-8927-4c55-94c0-52c7057c0dde",
   "metadata": {},
   "outputs": [],
   "source": []
  }
 ],
 "metadata": {
  "kernelspec": {
   "display_name": "Python 3 (ipykernel)",
   "language": "python",
   "name": "python3"
  },
  "language_info": {
   "codemirror_mode": {
    "name": "ipython",
    "version": 3
   },
   "file_extension": ".py",
   "mimetype": "text/x-python",
   "name": "python",
   "nbconvert_exporter": "python",
   "pygments_lexer": "ipython3",
   "version": "3.10.6"
  }
 },
 "nbformat": 4,
 "nbformat_minor": 5
}

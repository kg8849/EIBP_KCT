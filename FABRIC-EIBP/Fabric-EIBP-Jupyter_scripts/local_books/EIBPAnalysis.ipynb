{
 "cells": [
  {
   "cell_type": "markdown",
   "id": "3f6e805a-b424-467c-9804-515fc791787e",
   "metadata": {
    "tags": []
   },
   "source": [
    "# Analyze EIBP Log Results"
   ]
  },
  {
   "cell_type": "markdown",
   "id": "afde3953-6a77-4959-b953-fda62daf9a75",
   "metadata": {},
   "source": [
    "## Input Required Information\n",
    "\n",
    "| Variable | Use |\n",
    "| --- | --- |\n",
    "| LOG_DIR_PATH | Location of the log directory. | "
   ]
  },
  {
   "cell_type": "code",
   "execution_count": 2,
   "id": "1f37ce88-0f0d-431b-8506-946f5dbf09a5",
   "metadata": {
    "tags": []
   },
   "outputs": [],
   "source": [
    "LOG_DIR_PATH = \"/home/fabric/work/FABRIC-EIBP/logs\""
   ]
  },
  {
   "cell_type": "markdown",
   "id": "d0d8b0d4-bf74-447b-a3b4-cbbd062178b2",
   "metadata": {},
   "source": [
    "Convergence time: time taken from 1 failure node to the last node heard about it.\n",
    "\n",
    "Control Overheard: Size of the failure message overall\n",
    "\n",
    "Churn rate : how far the error message propagates. \n",
    "\n",
    "IF_DIRECT_DOWN: nodes detect interface is down\n",
    "\n",
    "IF_TIMER_DOWN:dead timer is down or expiring."
   ]
  },
  {
   "cell_type": "markdown",
   "id": "679be6c0-7a7c-4d0d-bf91-aaa7bc3b5b6e",
   "metadata": {},
   "source": [
    "# Convergence Time"
   ]
  },
  {
   "cell_type": "code",
   "execution_count": 3,
   "id": "e45314b2-8de2-4fb3-b64d-96b51a2cb73f",
   "metadata": {},
   "outputs": [
    {
     "name": "stdout",
     "output_type": "stream",
     "text": [
      "Convergence time: 3.2277841567993164 seconds\n"
     ]
    }
   ],
   "source": [
    "import re\n",
    "import os\n",
    "\n",
    "# Regular expression patterns to match T1 and T2\n",
    "pattern_T1 = re.compile(r'^IF_DIRECT_DOWN:(\\d+\\.\\d+)$')\n",
    "pattern_T2 = re.compile(r'^DELETE MESSAGE RECEIVED: CURRENT_TIME:(\\d+\\.\\d+)$')\n",
    "\n",
    "# Initialize variables for T1 and T2\n",
    "T1 = None\n",
    "T2 = float('-inf')\n",
    "\n",
    "# Iterate through each log file\n",
    "for filename in os.listdir(LOG_DIR_PATH):\n",
    "    if filename.endswith('.log'):\n",
    "        with open(os.path.join(LOG_DIR_PATH, filename), 'r') as file:\n",
    "            # Read each line in the log file\n",
    "            for line in file:\n",
    "                # Match pattern for T1 (IF_DIRECT_DOWN)\n",
    "                match_T1 = pattern_T1.match(line.strip())\n",
    "                if match_T1:\n",
    "                    # Capture T1 (time of IF_DIRECT_DOWN)\n",
    "                    T1 = float(match_T1.group(1))\n",
    "                \n",
    "                # Match pattern for T2 (LAST DELETE MESSAGE CURRENT_TIME)\n",
    "                match_T2 = pattern_T2.match(line.strip())\n",
    "                if match_T2:\n",
    "                    # Capture the current time for DELETE MESSAGE RECEIVED\n",
    "                    current_time = float(match_T2.group(1))\n",
    "                    # Update T2 with the latest current_time\n",
    "                    if current_time > T2:\n",
    "                        T2 = current_time\n",
    "\n",
    "# Calculate and display the difference convergence time (T2 - T1) in seconds\n",
    "if T1 is not None:\n",
    "    result = T2 - T1\n",
    "    print(f\"Convergence time: {result} seconds\")\n",
    "else:\n",
    "    print(\"IF_DIRECT_DOWN not found in the logs.\")\n"
   ]
  },
  {
   "cell_type": "markdown",
   "id": "1d30405b-8f9e-4cee-9592-b8fe5c8c83ff",
   "metadata": {},
   "source": [
    "# Control Overhead"
   ]
  },
  {
   "cell_type": "code",
   "execution_count": 4,
   "id": "cc24d5ef-f8cd-43ab-9fc9-63428c1f7cae",
   "metadata": {},
   "outputs": [
    {
     "name": "stdout",
     "output_type": "stream",
     "text": [
      "Control Overhead:196 bytes\n"
     ]
    }
   ],
   "source": [
    "import os\n",
    "\n",
    "eth_sizes = []\n",
    "\n",
    "# Read the log files in the specified directory\n",
    "for filename in os.listdir(LOG_DIR_PATH):\n",
    "    if filename.endswith('.log'):\n",
    "        file_path = os.path.join(LOG_DIR_PATH, filename)\n",
    "        found_delete_message = False  # Reset for each file\n",
    "        capture_eth_size = False  # Flag to capture ETH_SIZE values\n",
    "        \n",
    "        # Read each log file\n",
    "        with open(file_path, 'r') as file:\n",
    "            log_lines = file.readlines()\n",
    "            \n",
    "            # Parse the log to extract ETH_SIZE values under DELETE MESSAGE RECEIVED: CURRENT_TIME\n",
    "            for line in log_lines:\n",
    "                if \"DELETE MESSAGE RECEIVED\" in line:\n",
    "                    found_delete_message = True\n",
    "                  #  print(f\"DELETE MESSAGE RECEIVED print: {line}\")\n",
    "                    capture_eth_size = True  # Set flag to capture ETH_SIZE values after this line\n",
    "                elif capture_eth_size and \"ETH_SIZE\" in line:\n",
    "                  #  print(f\"eth_size: {line}\")\n",
    "                    eth_size = line.split(\":\")[1].strip()\n",
    "                    eth_sizes.append(int(eth_size))\n",
    "                elif capture_eth_size and \"DELETE MESSAGE RECEIVED\" in line:\n",
    "                    capture_eth_size = False  # Reset the flag if another DELETE MESSAGE line is encountered\n",
    "                \n",
    "# Calculate the sum of ETH_SIZE values\n",
    "sum_eth_sizes = sum(eth_sizes)\n",
    "print(f\"Control Overhead:{sum_eth_sizes} bytes\")\n"
   ]
  },
  {
   "cell_type": "markdown",
   "id": "26cf64ba-a270-4f55-8a6f-588485644ed4",
   "metadata": {},
   "source": [
    "# CHURN PERCENTAGE"
   ]
  },
  {
   "cell_type": "code",
   "execution_count": 5,
   "id": "b011d1a7-af01-4ca0-9130-1d28851e12f0",
   "metadata": {},
   "outputs": [
    {
     "name": "stdout",
     "output_type": "stream",
     "text": [
      "CHURN PERCENTAGE: 100.00%\n"
     ]
    }
   ],
   "source": [
    "import os\n",
    "\n",
    "churn_count = 0\n",
    "total_files = 0\n",
    "\n",
    "# Loop through all files in the current directory\n",
    "for filename in os.listdir(LOG_DIR_PATH):\n",
    "    if filename.endswith('.log'):\n",
    "        total_files += 1\n",
    "        # Open the file and check for churn\n",
    "        with open(os.path.join(LOG_DIR_PATH, filename), 'r') as file:\n",
    "            churn_found = any('CHURN_TRUE' in line.strip() for line in file)\n",
    "            if churn_found:\n",
    "                churn_count += 1\n",
    "\n",
    "# Calculate churn percentage\n",
    "if total_files > 0:\n",
    "    churn_percent = (churn_count / total_files) * 100\n",
    "else:\n",
    "    churn_percent = 0\n",
    "\n",
    "# Display the churn percentage\n",
    "print(f\"CHURN PERCENTAGE: {churn_percent:.2f}%\")\n"
   ]
  },
  {
   "cell_type": "code",
   "execution_count": null,
   "id": "4db6044d-7be1-4926-ba4d-7087fa6eacd8",
   "metadata": {},
   "outputs": [],
   "source": []
  }
 ],
 "metadata": {
  "kernelspec": {
   "display_name": "Python 3 (ipykernel)",
   "language": "python",
   "name": "python3"
  },
  "language_info": {
   "codemirror_mode": {
    "name": "ipython",
    "version": 3
   },
   "file_extension": ".py",
   "mimetype": "text/x-python",
   "name": "python",
   "nbconvert_exporter": "python",
   "pygments_lexer": "ipython3",
   "version": "3.10.6"
  }
 },
 "nbformat": 4,
 "nbformat_minor": 5
}

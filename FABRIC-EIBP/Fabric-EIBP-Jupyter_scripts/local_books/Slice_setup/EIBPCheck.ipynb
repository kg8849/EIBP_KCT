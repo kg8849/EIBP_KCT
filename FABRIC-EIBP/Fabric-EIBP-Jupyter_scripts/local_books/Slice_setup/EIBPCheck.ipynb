{
 "cells": [
  {
   "cell_type": "markdown",
   "id": "5d8c1414-7318-4251-b68d-0d287d17e9a4",
   "metadata": {},
   "source": [
    "## EIBP Checks"
   ]
  },
  {
   "cell_type": "code",
   "execution_count": 1,
   "id": "f8a301e3-4efc-4e5f-b387-110b8c9cc9ea",
   "metadata": {},
   "outputs": [],
   "source": [
    "SLICE_NAME = \"eibp\"\n",
    "#NODE_TO_FAIL = \"a2\" #node name\n",
    "#INTF_TO_FAIL = \"eth2\""
   ]
  },
  {
   "cell_type": "markdown",
   "id": "8faddb8c-ddd1-4bcc-b307-83b85d1aec02",
   "metadata": {},
   "source": [
    "## Access the Slice\n",
    "\n",
    "The orchestrator class is initalized, which also means the slice and its nodes are now accessable as well."
   ]
  },
  {
   "cell_type": "code",
   "execution_count": 2,
   "id": "bc1e8200-64df-4412-b4fd-905696771329",
   "metadata": {},
   "outputs": [
    {
     "name": "stdout",
     "output_type": "stream",
     "text": [
      "Slice name: eibp\n",
      "Slice and nodes were acquired successfully.\n"
     ]
    }
   ],
   "source": [
    "from FabUtils import FabOrchestrator\n",
    "\n",
    "try:\n",
    "    manager = FabOrchestrator(SLICE_NAME)\n",
    "    \n",
    "except Exception as e:\n",
    "    print(f\"Exception: {e}\")"
   ]
  },
  {
   "cell_type": "code",
   "execution_count": 3,
   "id": "45c99c55-9483-4ca4-a61e-63a790259638",
   "metadata": {},
   "outputs": [
    {
     "name": "stdout",
     "output_type": "stream",
     "text": [
      "Starting command on node c1\n",
      "Command to execute: ip address | grep '<BROADCAST,MULTICAST>'\n",
      "Starting command on node d1\n",
      "Command to execute: ip address | grep '<BROADCAST,MULTICAST>'\n",
      "Starting command on node d2\n",
      "Command to execute: ip address | grep '<BROADCAST,MULTICAST>'\n",
      "Starting command on node a1\n",
      "Command to execute: ip address | grep '<BROADCAST,MULTICAST>'\n",
      "Starting command on node a2\n",
      "Command to execute: ip address | grep '<BROADCAST,MULTICAST>'\n",
      "Starting command on node ipnode-1\n",
      "Command to execute: ip address | grep '<BROADCAST,MULTICAST>'\n",
      "Starting command on node ipnode-2\n",
      "Command to execute: ip address | grep '<BROADCAST,MULTICAST>'\n",
      "Waiting for result from node c1\n",
      "stdout: \n",
      "stderr: \n",
      "Waiting for result from node d1\n",
      "stdout: \n",
      "stderr: \n",
      "Waiting for result from node d2\n",
      "stdout: \n",
      "stderr: \n",
      "Waiting for result from node a1\n",
      "stdout: \n",
      "stderr: \n",
      "Waiting for result from node a2\n",
      "stdout: \n",
      "stderr: \n",
      "Waiting for result from node ipnode-1\n",
      "stdout: \n",
      "stderr: \n",
      "Waiting for result from node ipnode-2\n",
      "stdout: \n",
      "stderr: \n"
     ]
    }
   ],
   "source": [
    "manager.executeCommandsParallel(\"ip address | grep '<BROADCAST,MULTICAST>'\")"
   ]
  },
  {
   "cell_type": "code",
   "execution_count": 4,
   "id": "7a0b77d2-11ae-49a2-81df-8395024bb16e",
   "metadata": {
    "tags": []
   },
   "outputs": [
    {
     "name": "stdout",
     "output_type": "stream",
     "text": [
      "c1\n",
      "\tc1-eth1-p1 brought up\n",
      "\tc1-eth2-p1 brought up\n",
      "d1\n",
      "\td1-eth2-p1 brought up\n",
      "\td1-eth4-p1 brought up\n",
      "\td1-eth1-p1 brought up\n",
      "\td1-eth3-p1 brought up\n",
      "d2\n",
      "\td2-eth2-p1 brought up\n",
      "\td2-eth4-p1 brought up\n",
      "\td2-eth1-p1 brought up\n",
      "\td2-eth3-p1 brought up\n",
      "a1\n",
      "\ta1-eth3-p1 brought up\n",
      "\ta1-eth1-p1 brought up\n",
      "\ta1-eth2-p1 brought up\n",
      "a2\n",
      "\ta2-eth3-p1 brought up\n",
      "\ta2-eth1-p1 brought up\n",
      "\ta2-eth2-p1 brought up\n",
      "ipnode-1\n",
      "\tipnode-1-eth1-p1 brought up\n",
      "ipnode-2\n",
      "\tipnode-2-eth1-p1 brought up\n"
     ]
    }
   ],
   "source": [
    "for node in manager.slice.nodes:\n",
    "    print(f\"{node.get_name()}\")\n",
    "    for intf in node.get_interfaces():\n",
    "        intf.ip_link_up()\n",
    "        print(f\"\\t{intf.get_name()} brought up\")"
   ]
  },
  {
   "cell_type": "code",
   "execution_count": 5,
   "id": "6a4a9ac3-4795-461d-8d31-da34482736d9",
   "metadata": {},
   "outputs": [
    {
     "name": "stdout",
     "output_type": "stream",
     "text": [
      "Starting command on node c1\n",
      "Command to execute: cat .tmux.conf && cat tmux_start_logging.sh\n",
      "Starting command on node d1\n",
      "Command to execute: cat .tmux.conf && cat tmux_start_logging.sh\n",
      "Starting command on node d2\n",
      "Command to execute: cat .tmux.conf && cat tmux_start_logging.sh\n",
      "Starting command on node a1\n",
      "Command to execute: cat .tmux.conf && cat tmux_start_logging.sh\n",
      "Starting command on node a2\n",
      "Command to execute: cat .tmux.conf && cat tmux_start_logging.sh\n",
      "Starting command on node ipnode-1\n",
      "Command to execute: cat .tmux.conf && cat tmux_start_logging.sh\n",
      "Starting command on node ipnode-2\n",
      "Command to execute: cat .tmux.conf && cat tmux_start_logging.sh\n",
      "Waiting for result from node c1\n",
      "stdout: set -g remain-on-exit on\n",
      "set-hook -g after-new-session 'run ~/tmux_start_logging.sh'\n",
      "tmux pipe-pane -o 'cat >>~/EIBP_c1.log'\n",
      "\n",
      "stderr: \n",
      "Waiting for result from node d1\n",
      "stdout: set -g remain-on-exit on\n",
      "set-hook -g after-new-session 'run ~/tmux_start_logging.sh'\n",
      "tmux pipe-pane -o 'cat >>~/EIBP_d1.log'\n",
      "\n",
      "stderr: \n",
      "Waiting for result from node d2\n",
      "stdout: set -g remain-on-exit on\n",
      "set-hook -g after-new-session 'run ~/tmux_start_logging.sh'\n",
      "tmux pipe-pane -o 'cat >>~/EIBP_d2.log'\n",
      "\n",
      "stderr: \n",
      "Waiting for result from node a1\n",
      "stdout: set -g remain-on-exit on\n",
      "set-hook -g after-new-session 'run ~/tmux_start_logging.sh'\n",
      "tmux pipe-pane -o 'cat >>~/EIBP_a1.log'\n",
      "\n",
      "stderr: \n",
      "Waiting for result from node a2\n",
      "stdout: set -g remain-on-exit on\n",
      "set-hook -g after-new-session 'run ~/tmux_start_logging.sh'\n",
      "tmux pipe-pane -o 'cat >>~/EIBP_a2.log'\n",
      "\n",
      "stderr: \n",
      "Waiting for result from node ipnode-1\n",
      "stdout: \n",
      "stderr: cat: .tmux.conf: No such file or directory\n",
      "\n",
      "Waiting for result from node ipnode-2\n",
      "stdout: \n",
      "stderr: cat: .tmux.conf: No such file or directory\n",
      "\n"
     ]
    }
   ],
   "source": [
    "manager.executeCommandsParallel(\"cat .tmux.conf && cat tmux_start_logging.sh\")"
   ]
  },
  {
   "cell_type": "code",
   "execution_count": 13,
   "id": "06211995-1b13-45a0-ba9b-889161e26727",
   "metadata": {},
   "outputs": [
    {
     "name": "stdout",
     "output_type": "stream",
     "text": [
      "Starting command on node c1\n",
      "Command to execute: tmux ls\n",
      "Starting command on node d1\n",
      "Command to execute: tmux ls\n",
      "Starting command on node d2\n",
      "Command to execute: tmux ls\n",
      "Starting command on node a1\n",
      "Command to execute: tmux ls\n",
      "Starting command on node a2\n",
      "Command to execute: tmux ls\n",
      "Starting command on node ipnode-1\n",
      "Command to execute: tmux ls\n",
      "Starting command on node ipnode-2\n",
      "Command to execute: tmux ls\n",
      "Waiting for result from node c1\n",
      "stdout: \n",
      "stderr: no server running on /tmp/tmux-1000/default\n",
      "\n",
      "Waiting for result from node d1\n",
      "stdout: \n",
      "stderr: no server running on /tmp/tmux-1000/default\n",
      "\n",
      "Waiting for result from node d2\n",
      "stdout: \n",
      "stderr: no server running on /tmp/tmux-1000/default\n",
      "\n",
      "Waiting for result from node a1\n",
      "stdout: \n",
      "stderr: no server running on /tmp/tmux-1000/default\n",
      "\n",
      "Waiting for result from node a2\n",
      "stdout: \n",
      "stderr: no server running on /tmp/tmux-1000/default\n",
      "\n",
      "Waiting for result from node ipnode-1\n",
      "stdout: \n",
      "stderr: error connecting to /tmp/tmux-1000/default (No such file or directory)\n",
      "\n",
      "Waiting for result from node ipnode-2\n",
      "stdout: \n",
      "stderr: error connecting to /tmp/tmux-1000/default (No such file or directory)\n",
      "\n"
     ]
    }
   ],
   "source": [
    "manager.executeCommandsParallel(\"tmux ls\")"
   ]
  }
 ],
 "metadata": {
  "kernelspec": {
   "display_name": "Python 3 (ipykernel)",
   "language": "python",
   "name": "python3"
  },
  "language_info": {
   "codemirror_mode": {
    "name": "ipython",
    "version": 3
   },
   "file_extension": ".py",
   "mimetype": "text/x-python",
   "name": "python",
   "nbconvert_exporter": "python",
   "pygments_lexer": "ipython3",
   "version": "3.10.6"
  }
 },
 "nbformat": 4,
 "nbformat_minor": 5
}

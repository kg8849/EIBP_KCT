{
 "cells": [
  {
   "cell_type": "markdown",
   "id": "4e64f4ca-37c2-4a85-90cc-25613a2ed950",
   "metadata": {
    "tags": []
   },
   "source": [
    "# Topology Information"
   ]
  },
  {
   "cell_type": "markdown",
   "id": "1f3f67d3-cef0-45c1-83ab-8fff295d8c1b",
   "metadata": {},
   "source": [
    "## INITIALIZATION: Input Required Information\n",
    "\n",
    "| Variable | Use |\n",
    "| --- | --- |\n",
    "| SLICE_NAME    | Name of the slice you wish to work on. |\n",
    "| CONFIG_FILE | Configuration file for the nodes. |\n",
    "| CODE_DIR | Directory of the EIBP source code. |"
   ]
  },
  {
   "cell_type": "code",
   "execution_count": 1,
   "id": "78814841-dfe8-4b5a-a5a4-508dbb23e061",
   "metadata": {},
   "outputs": [],
   "source": [
    "SLICE_NAME = \"eibp\""
   ]
  },
  {
   "cell_type": "markdown",
   "id": "ac21ca19-3f9c-4be9-be5f-06f27457e39f",
   "metadata": {
    "tags": []
   },
   "source": [
    "## Access the Slice\n",
    "\n",
    "The orchestrator class is initalized, which also means the slice and its nodes are now accessable as well."
   ]
  },
  {
   "cell_type": "code",
   "execution_count": 2,
   "id": "60283a09-0a09-4be7-84b8-738a776c79f9",
   "metadata": {},
   "outputs": [
    {
     "name": "stdout",
     "output_type": "stream",
     "text": [
      "Slice name: eibp\n",
      "Slice and nodes were acquired successfully.\n"
     ]
    }
   ],
   "source": [
    "from FabUtils import FabOrchestrator\n",
    "\n",
    "try:\n",
    "    manager = FabOrchestrator(SLICE_NAME)\n",
    "    \n",
    "except Exception as e:\n",
    "    print(f\"Exception: {e}\")"
   ]
  },
  {
   "cell_type": "code",
   "execution_count": 3,
   "id": "25cb7e18-c1b5-454a-ab49-09e7fc48ea31",
   "metadata": {},
   "outputs": [],
   "source": [
    "manager.get_ip_addr()"
   ]
  },
  {
   "cell_type": "code",
   "execution_count": 5,
   "id": "5f846cdb-a84f-4860-926f-05ad55d0fa0f",
   "metadata": {},
   "outputs": [
    {
     "name": "stdout",
     "output_type": "stream",
     "text": [
      "Filtered data stored successfully in 'eibp_ip_addr_filtered.txt'.\n"
     ]
    }
   ],
   "source": [
    "filtered_entries = []\n",
    "\n",
    "with open(\"eibp_ip_addr.txt\", 'r') as file:\n",
    "    nodename = None  \n",
    "    for line in file:\n",
    "        if line.startswith('nodename:'):\n",
    "            nodename = line.strip().split(':')[1].strip()\n",
    "        else:\n",
    "            nodes = eval(line)\n",
    "            for node in nodes:\n",
    "                if node.get('ifindex', 0) >= 3:\n",
    "                    addr_info = node.get('addr_info', [{}])[0]\n",
    "                    filtered_entries.append({\n",
    "                        \"nodename\": nodename,\n",
    "                        \"ifindex\": node.get('ifindex'),\n",
    "                        \"ifname\": node.get('ifname'),\n",
    "                        \"operstate\": node.get('operstate'),\n",
    "                        \"address\": node.get('address'),\n",
    "                        \"altnames\": node.get('altnames'),\n",
    "                        \"addr_info\": {\n",
    "                            \"local\": addr_info.get('local'),\n",
    "                            \"prefixlen\": addr_info.get('prefixlen')\n",
    "                        }\n",
    "                    })\n",
    "\n",
    "if filtered_entries:\n",
    "    with open(\"eibp_ip_addr_filtered.txt\", \"w\") as output_file:\n",
    "        for entry in filtered_entries:\n",
    "            output_file.write(\n",
    "                f\"Node name: {entry.get('nodename')}\\n\"\n",
    "                f\"ifindex: {entry.get('ifindex')}\\n\"\n",
    "                f\"ifname: {entry.get('ifname')}\\n\"\n",
    "                f\"operstate: {entry.get('operstate')}\\n\"\n",
    "                f\"address: {entry.get('address')}\\n\"\n",
    "                f\"altnames: {entry.get('altnames')}\\n\"\n",
    "                f\"local: {entry.get('addr_info', {}).get('local')}\\n\"\n",
    "                f\"prefixlen: {entry.get('addr_info', {}).get('prefixlen')}\\n\\n\"\n",
    "            )\n",
    "    print(\"Filtered data stored successfully in 'eibp_ip_addr_filtered.txt'.\")\n",
    "else:\n",
    "    print(\"No valid entries found with ifindex greater than or equal to 3.\")\n"
   ]
  },
  {
   "cell_type": "code",
   "execution_count": null,
   "id": "38186b30-1eac-4daf-b89f-63f954f566d8",
   "metadata": {},
   "outputs": [],
   "source": []
  }
 ],
 "metadata": {
  "kernelspec": {
   "display_name": "Python 3 (ipykernel)",
   "language": "python",
   "name": "python3"
  },
  "language_info": {
   "codemirror_mode": {
    "name": "ipython",
    "version": 3
   },
   "file_extension": ".py",
   "mimetype": "text/x-python",
   "name": "python",
   "nbconvert_exporter": "python",
   "pygments_lexer": "ipython3",
   "version": "3.10.6"
  }
 },
 "nbformat": 4,
 "nbformat_minor": 5
}

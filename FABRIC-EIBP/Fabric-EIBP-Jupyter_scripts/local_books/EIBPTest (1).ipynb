{
 "cells": [
  {
   "cell_type": "markdown",
   "id": "3f6e805a-b424-467c-9804-515fc791787e",
   "metadata": {
    "tags": []
   },
   "source": [
    "# Run **Expedited Internet Bypass Protocol** on FABRIC Nodes"
   ]
  },
  {
   "cell_type": "markdown",
   "id": "afde3953-6a77-4959-b953-fda62daf9a75",
   "metadata": {},
   "source": [
    "## Input Required Information\n",
    "\n",
    "| Variable | Use |\n",
    "| --- | --- |\n",
    "| SLICE_NAME    | Name of the slice you wish to work on. |\n",
    "| NODE_TO_FAIL | Node which will lose access to an interface. |\n",
    "| INTF_TO_FAIL | Interface that will be failed on the node. |"
   ]
  },
  {
   "cell_type": "code",
   "execution_count": 48,
   "id": "1f37ce88-0f0d-431b-8506-946f5dbf09a5",
   "metadata": {},
   "outputs": [],
   "source": [
    "SLICE_NAME = \"eibp\"\n",
    "\n",
    "#change based on slice details\n",
    "NODE_TO_FAIL = \"a2\"\n",
    "INTF_TO_FAIL = \"eth2\""
   ]
  },
  {
   "cell_type": "markdown",
   "id": "3be33fec-20fd-4a94-8953-a090e6f48cba",
   "metadata": {
    "tags": []
   },
   "source": [
    "## Access the Slice\n",
    "\n",
    "The orchestrator class is initalized, which also means the slice and its nodes are now accessable as well."
   ]
  },
  {
   "cell_type": "code",
   "execution_count": 49,
   "id": "d2e26f90-77a5-48c5-87ad-76c778c4a0f5",
   "metadata": {},
   "outputs": [
    {
     "name": "stdout",
     "output_type": "stream",
     "text": [
      "Slice name: eibp\n",
      "Slice and nodes were acquired successfully.\n"
     ]
    }
   ],
   "source": [
    "from FabUtils import FabOrchestrator\n",
    "\n",
    "try:\n",
    "    manager = FabOrchestrator(SLICE_NAME)\n",
    "    \n",
    "except Exception as e:\n",
    "    print(f\"Exception: {e}\")"
   ]
  },
  {
   "cell_type": "markdown",
   "id": "b82a34ea-619d-42c8-be27-c4b2c0aff72b",
   "metadata": {
    "tags": []
   },
   "source": [
    "## Delete the Log from a Prior Test if Necessary"
   ]
  },
  {
   "cell_type": "code",
   "execution_count": 50,
   "id": "a0595a52-5986-475e-b77f-0a8d31e723a1",
   "metadata": {},
   "outputs": [
    {
     "name": "stdout",
     "output_type": "stream",
     "text": [
      "Starting command on node c1\n",
      "Command to execute: rm EIBP_*.log\n",
      "Starting command on node d1\n",
      "Command to execute: rm EIBP_*.log\n",
      "Starting command on node d2\n",
      "Command to execute: rm EIBP_*.log\n",
      "Starting command on node a1\n",
      "Command to execute: rm EIBP_*.log\n",
      "Starting command on node a2\n",
      "Command to execute: rm EIBP_*.log\n",
      "Waiting for result from node c1\n",
      "stdout: \n",
      "stderr: \n",
      "Waiting for result from node d1\n",
      "stdout: \n",
      "stderr: \n",
      "Waiting for result from node d2\n",
      "stdout: \n",
      "stderr: \n",
      "Waiting for result from node a1\n",
      "stdout: \n",
      "stderr: \n",
      "Waiting for result from node a2\n",
      "stdout: \n",
      "stderr: \n"
     ]
    }
   ],
   "source": [
    "rmLogCmd = \"rm EIBP_*.log\"\n",
    "manager.executeCommandsParallel(rmLogCmd, prefixList=\"a,d,c\")"
   ]
  },
  {
   "cell_type": "markdown",
   "id": "06c90a8a-8179-4fa4-ad26-a6d44a45d8b8",
   "metadata": {},
   "source": [
    "## EIBP **Initial Convergence**\n",
    "\n",
    "Delay by a bit to get everything working first. The spines are started first, then 5 seconds later the leaves are."
   ]
  },
  {
   "cell_type": "code",
   "execution_count": 51,
   "id": "12931b9a-a585-4056-9f51-7f5461b2236b",
   "metadata": {},
   "outputs": [
    {
     "name": "stdout",
     "output_type": "stream",
     "text": [
      "Node:c1, Command:sudo ./MNLR -T 1 -L 1.1 -N 1\n",
      "tmux new-session -d -s MNLR 'cd ~/MNLR_Code; sudo ./MNLR -T 1 -L 1.1 -N 1'\n",
      "Starting command on node c1\n",
      "Command to execute: tmux new-session -d -s MNLR 'cd ~/MNLR_Code; sudo ./MNLR -T 1 -L 1.1 -N 1'\n",
      "Waiting for result from node c1\n",
      "stdout: \n",
      "stderr: \n",
      "Node:d1, Command:sudo ./MNLR -T 2 -N 1\n",
      "tmux new-session -d -s MNLR 'cd ~/MNLR_Code; sudo ./MNLR -T 2 -N 1'\n",
      "Starting command on node d1\n",
      "Command to execute: tmux new-session -d -s MNLR 'cd ~/MNLR_Code; sudo ./MNLR -T 2 -N 1'\n",
      "Waiting for result from node d1\n",
      "stdout: \n",
      "stderr: \n",
      "Node:d2, Command:sudo ./MNLR -T 2 -N 1\n",
      "tmux new-session -d -s MNLR 'cd ~/MNLR_Code; sudo ./MNLR -T 2 -N 1'\n",
      "Starting command on node d2\n",
      "Command to execute: tmux new-session -d -s MNLR 'cd ~/MNLR_Code; sudo ./MNLR -T 2 -N 1'\n",
      "Waiting for result from node d2\n",
      "stdout: \n",
      "stderr: \n",
      "Node:a1, Command:sudo ./MNLR -T 3 -N 0 192.168.4.254 24 eth3\n",
      "tmux new-session -d -s MNLR 'cd ~/MNLR_Code; sudo ./MNLR -T 3 -N 0 192.168.4.254 24 eth3'\n",
      "Starting command on node a1\n",
      "Command to execute: tmux new-session -d -s MNLR 'cd ~/MNLR_Code; sudo ./MNLR -T 3 -N 0 192.168.4.254 24 eth3'\n",
      "Waiting for result from node a1\n",
      "stdout: \n",
      "stderr: \n",
      "Node:a2, Command:sudo ./MNLR -T 3 -N 0 192.168.5.254 24 eth3\n",
      "tmux new-session -d -s MNLR 'cd ~/MNLR_Code; sudo ./MNLR -T 3 -N 0 192.168.5.254 24 eth3'\n",
      "Starting command on node a2\n",
      "Command to execute: tmux new-session -d -s MNLR 'cd ~/MNLR_Code; sudo ./MNLR -T 3 -N 0 192.168.5.254 24 eth3'\n",
      "Waiting for result from node a2\n",
      "stdout: \n",
      "stderr: \n"
     ]
    }
   ],
   "source": [
    "import time\n",
    "\n",
    "with open('config_small.txt','r') as file:\n",
    "    config_data = {}\n",
    "    \n",
    "    for line in file:\n",
    "        parts = line.strip().split(',')\n",
    "        if len(parts) == 2:\n",
    "            node_name, command = parts\n",
    "            config_data[node_name] = command\n",
    "            \n",
    "\n",
    "    for node_name, command in config_data.items():\n",
    "        print(f\"Node:{node_name}, Command:{command}\")\n",
    "        \n",
    "        startCmd = f\"tmux new-session -d -s MNLR 'cd ~/MNLR_Code; {command}'\"\n",
    "        print(startCmd)\n",
    "        \n",
    "        manager.executeCommandsParallel(startCmd, prefixList = node_name)\n",
    "        time.sleep(5)"
   ]
  },
  {
   "cell_type": "markdown",
   "id": "d2865cbf-fd7e-4c37-8317-e57e7e06dc4f",
   "metadata": {},
   "source": [
    "# wait for a minute "
   ]
  },
  {
   "cell_type": "markdown",
   "id": "b3d7b35b-5ccb-4fbc-add9-0250581e4b25",
   "metadata": {
    "tags": []
   },
   "source": [
    "# EIBP **Reconvergence** Testing\n",
    "\n",
    "## Take the Interface down\n",
    "\n",
    "This code brings down a network interface specified by {INTF_TO_FAIL} across multiple nodes and then retrieves IP addresses from the specified nodes in parallel using Python's manager.executeCommandsParallel function."
   ]
  },
  {
   "cell_type": "code",
   "execution_count": 52,
   "id": "79dfa56b-7e22-42c3-91f7-8fb8583b1503",
   "metadata": {
    "tags": []
   },
   "outputs": [
    {
     "name": "stdout",
     "output_type": "stream",
     "text": [
      "Starting command on node a2\n",
      "Command to execute: sudo ip link set down eth2\n",
      "Waiting for result from node a2\n",
      "stdout: \n",
      "stderr: \n",
      "Starting command on node a2\n",
      "Command to execute: sudo ip addr\n",
      "Waiting for result from node a2\n",
      "stdout: 1: lo: <LOOPBACK,UP,LOWER_UP> mtu 65536 qdisc noqueue state UNKNOWN group default qlen 1000\n",
      "    link/loopback 00:00:00:00:00:00 brd 00:00:00:00:00:00\n",
      "    inet 127.0.0.1/8 scope host lo\n",
      "       valid_lft forever preferred_lft forever\n",
      "    inet6 ::1/128 scope host \n",
      "       valid_lft forever preferred_lft forever\n",
      "2: eth0: <BROADCAST,MULTICAST,UP,LOWER_UP> mtu 9000 qdisc fq_codel state UP group default qlen 1000\n",
      "    link/ether fa:16:3e:d4:89:13 brd ff:ff:ff:ff:ff:ff\n",
      "    altname enp3s0\n",
      "    inet 10.30.6.225/23 brd 10.30.7.255 scope global dynamic noprefixroute eth0\n",
      "       valid_lft 48264sec preferred_lft 48264sec\n",
      "    inet6 2001:400:a100:3030:f816:3eff:fed4:8913/64 scope global dynamic noprefixroute \n",
      "       valid_lft 86396sec preferred_lft 14396sec\n",
      "    inet6 fe80::f816:3eff:fed4:8913/64 scope link noprefixroute \n",
      "       valid_lft forever preferred_lft forever\n",
      "3: eth1: <BROADCAST,MULTICAST,UP,LOWER_UP> mtu 1500 qdisc mq state UP group default qlen 1000\n",
      "    link/ether 26:f2:dd:46:99:1a brd ff:ff:ff:ff:ff:ff\n",
      "    altname enp7s0\n",
      "    inet 192.168.3.2/24 scope global eth1\n",
      "       valid_lft forever preferred_lft forever\n",
      "    inet6 fe80::7475:4e5e:1cbe:460b/64 scope link noprefixroute \n",
      "       valid_lft forever preferred_lft forever\n",
      "4: eth2: <BROADCAST,MULTICAST> mtu 1500 qdisc mq state DOWN group default qlen 1000\n",
      "    link/ether 2e:0e:9e:ba:61:d5 brd ff:ff:ff:ff:ff:ff\n",
      "    altname enp8s0\n",
      "    inet 192.168.9.1/24 scope global eth2\n",
      "       valid_lft forever preferred_lft forever\n",
      "5: eth3: <BROADCAST,MULTICAST,UP,LOWER_UP> mtu 1500 qdisc mq state UP group default qlen 1000\n",
      "    link/ether 2e:16:0a:0c:0d:73 brd ff:ff:ff:ff:ff:ff\n",
      "    altname enp9s0\n",
      "    inet 192.168.5.254/24 scope global eth3\n",
      "       valid_lft forever preferred_lft forever\n",
      "    inet6 fe80::f2cf:28dc:c939:5775/64 scope link noprefixroute \n",
      "       valid_lft forever preferred_lft forever\n",
      "\n",
      "stderr: \n"
     ]
    }
   ],
   "source": [
    "# Take the specified interface down\n",
    "#intfName = f\"{NODE_TO_FAIL}-{INTF_TO_FAIL}-p1\"\n",
    "#intf = manager.slice.get_interface(intfName)\n",
    "#intf.ip_link_down()\n",
    "\n",
    "downCmd = f\"sudo ip link set down {INTF_TO_FAIL}\"\n",
    "manager.executeCommandsParallel(downCmd, prefixList=NODE_TO_FAIL)\n",
    "downCmd = f\"sudo ip addr\"\n",
    "manager.executeCommandsParallel(downCmd, prefixList=NODE_TO_FAIL)"
   ]
  },
  {
   "cell_type": "markdown",
   "id": "76f388f4-9ac6-41e4-9504-d569eaa3777b",
   "metadata": {},
   "source": [
    "# wait for a minute"
   ]
  },
  {
   "cell_type": "markdown",
   "id": "e51def87-00a4-4584-8f5d-160b9f27dc29",
   "metadata": {},
   "source": [
    "## Stop EIBP on Each Node\n",
    "# let us kill from a1, a2, d1, d2 and c1"
   ]
  },
  {
   "cell_type": "code",
   "execution_count": 53,
   "id": "9906a311-e1c6-4041-b39f-bf0a42770862",
   "metadata": {
    "tags": []
   },
   "outputs": [
    {
     "name": "stdout",
     "output_type": "stream",
     "text": [
      "Starting command on node a1\n",
      "Command to execute: tmux kill-session -t MNLR\n",
      "Starting command on node a2\n",
      "Command to execute: tmux kill-session -t MNLR\n",
      "Waiting for result from node a1\n",
      "stdout: \n",
      "stderr: \n",
      "Waiting for result from node a2\n",
      "stdout: \n",
      "stderr: \n",
      "Starting command on node d1\n",
      "Command to execute: tmux kill-session -t MNLR\n",
      "Starting command on node d2\n",
      "Command to execute: tmux kill-session -t MNLR\n",
      "Waiting for result from node d1\n",
      "stdout: \n",
      "stderr: \n",
      "Waiting for result from node d2\n",
      "stdout: \n",
      "stderr: \n",
      "Starting command on node c1\n",
      "Command to execute: tmux kill-session -t MNLR\n",
      "Waiting for result from node c1\n",
      "stdout: \n",
      "stderr: \n"
     ]
    }
   ],
   "source": [
    "stopCmd = \"tmux kill-session -t MNLR\"\n",
    "manager.executeCommandsParallel(stopCmd, prefixList=\"a\")\n",
    "manager.executeCommandsParallel(stopCmd, prefixList=\"d\")\n",
    "manager.executeCommandsParallel(stopCmd, prefixList=\"c\")"
   ]
  },
  {
   "cell_type": "markdown",
   "id": "66ed0b33-8db9-42ce-9c3b-81125f5cedc2",
   "metadata": {},
   "source": [
    "## Collect Log Results\n",
    "\n",
    "Now that the nodes have logged updates to their respective log files, they need to be downloaded to be analyzed."
   ]
  },
  {
   "cell_type": "code",
   "execution_count": 54,
   "id": "41cd6c3f-f30c-47e8-9a04-e6d02a5abb91",
   "metadata": {},
   "outputs": [],
   "source": [
    "# View contents on each node\n",
    "\n",
    "# compileCmd = \"ls\"\n",
    "# manager.executeCommandsParallel(compileCmd, prefixList=\"a,d,c\")"
   ]
  },
  {
   "cell_type": "code",
   "execution_count": 55,
   "id": "87ab4a8c-23a2-4820-941b-49419fda2495",
   "metadata": {
    "tags": []
   },
   "outputs": [
    {
     "name": "stdout",
     "output_type": "stream",
     "text": [
      "Starting download on node c1\n",
      "File to download: EIBP_c1.log\n",
      "Location of download: ../logs/EIBP_c1.log\n",
      "Starting download on node d1\n",
      "File to download: EIBP_d1.log\n",
      "Location of download: ../logs/EIBP_d1.log\n",
      "Starting download on node d2\n",
      "File to download: EIBP_d2.log\n",
      "Location of download: ../logs/EIBP_d2.log\n",
      "Starting download on node a1\n",
      "File to download: EIBP_a1.log\n",
      "Location of download: ../logs/EIBP_a1.log\n",
      "Starting download on node a2\n",
      "File to download: EIBP_a2.log\n",
      "Location of download: ../logs/EIBP_a2.log\n",
      "Waiting for result from node c1\n",
      "Output: None\n",
      "Waiting for result from node d1\n",
      "Output: None\n",
      "Waiting for result from node d2\n",
      "Output: None\n",
      "Waiting for result from node a1\n",
      "Output: None\n",
      "Waiting for result from node a2\n",
      "Output: None\n"
     ]
    }
   ],
   "source": [
    "import os\n",
    "\n",
    "LOG_DIR_PATH = \"../logs\"\n",
    "LOG_NAME = \"EIBP_{name}.log\"\n",
    "logPath = os.path.join(LOG_DIR_PATH, LOG_NAME)\n",
    "\n",
    "# If the logs directory does not already exist, create it\n",
    "if not os.path.exists(LOG_DIR_PATH):\n",
    "    os.makedirs(LOG_DIR_PATH)\n",
    "    \n",
    "manager.downloadFilesParallel(logPath, LOG_NAME, prefixList=\"a,d,c\", addNodeName=True)"
   ]
  },
  {
   "cell_type": "markdown",
   "id": "d5c86ac3-791b-4455-9bb2-de5d0ffdfbf8",
   "metadata": {},
   "source": [
    "## Bring the Interface Back Up"
   ]
  },
  {
   "cell_type": "code",
   "execution_count": 56,
   "id": "1e851b86-e2e2-415e-9fcd-838129fd7917",
   "metadata": {},
   "outputs": [
    {
     "name": "stdout",
     "output_type": "stream",
     "text": [
      "Starting command on node a2\n",
      "Command to execute: sudo ip link set up eth2\n",
      "Waiting for result from node a2\n",
      "stdout: \n",
      "stderr: \n",
      "Starting command on node a2\n",
      "Command to execute: sudo ip addr\n",
      "Waiting for result from node a2\n",
      "stdout: 1: lo: <LOOPBACK,UP,LOWER_UP> mtu 65536 qdisc noqueue state UNKNOWN group default qlen 1000\n",
      "    link/loopback 00:00:00:00:00:00 brd 00:00:00:00:00:00\n",
      "    inet 127.0.0.1/8 scope host lo\n",
      "       valid_lft forever preferred_lft forever\n",
      "    inet6 ::1/128 scope host \n",
      "       valid_lft forever preferred_lft forever\n",
      "2: eth0: <BROADCAST,MULTICAST,UP,LOWER_UP> mtu 9000 qdisc fq_codel state UP group default qlen 1000\n",
      "    link/ether fa:16:3e:d4:89:13 brd ff:ff:ff:ff:ff:ff\n",
      "    altname enp3s0\n",
      "    inet 10.30.6.225/23 brd 10.30.7.255 scope global dynamic noprefixroute eth0\n",
      "       valid_lft 48176sec preferred_lft 48176sec\n",
      "    inet6 2001:400:a100:3030:f816:3eff:fed4:8913/64 scope global dynamic noprefixroute \n",
      "       valid_lft 86309sec preferred_lft 14309sec\n",
      "    inet6 fe80::f816:3eff:fed4:8913/64 scope link noprefixroute \n",
      "       valid_lft forever preferred_lft forever\n",
      "3: eth1: <BROADCAST,MULTICAST,UP,LOWER_UP> mtu 1500 qdisc mq state UP group default qlen 1000\n",
      "    link/ether 26:f2:dd:46:99:1a brd ff:ff:ff:ff:ff:ff\n",
      "    altname enp7s0\n",
      "    inet 192.168.3.2/24 scope global eth1\n",
      "       valid_lft forever preferred_lft forever\n",
      "    inet6 fe80::7475:4e5e:1cbe:460b/64 scope link noprefixroute \n",
      "       valid_lft forever preferred_lft forever\n",
      "4: eth2: <BROADCAST,MULTICAST,UP,LOWER_UP> mtu 1500 qdisc mq state UP group default qlen 1000\n",
      "    link/ether 2e:0e:9e:ba:61:d5 brd ff:ff:ff:ff:ff:ff\n",
      "    altname enp8s0\n",
      "    inet 192.168.9.1/24 scope global eth2\n",
      "       valid_lft forever preferred_lft forever\n",
      "5: eth3: <BROADCAST,MULTICAST,UP,LOWER_UP> mtu 1500 qdisc mq state UP group default qlen 1000\n",
      "    link/ether 2e:16:0a:0c:0d:73 brd ff:ff:ff:ff:ff:ff\n",
      "    altname enp9s0\n",
      "    inet 192.168.5.254/24 scope global eth3\n",
      "       valid_lft forever preferred_lft forever\n",
      "    inet6 fe80::f2cf:28dc:c939:5775/64 scope link noprefixroute \n",
      "       valid_lft forever preferred_lft forever\n",
      "\n",
      "stderr: \n"
     ]
    }
   ],
   "source": [
    "#intf.ip_link_up()\n",
    "upCmd = f\"sudo ip link set up {INTF_TO_FAIL}\"\n",
    "manager.executeCommandsParallel(upCmd, prefixList=NODE_TO_FAIL)\n",
    "upCmd = f\"sudo ip addr\"\n",
    "manager.executeCommandsParallel(upCmd, prefixList=NODE_TO_FAIL)"
   ]
  },
  {
   "cell_type": "code",
   "execution_count": null,
   "id": "0451ebe8-1eca-404d-beea-c0add8d74519",
   "metadata": {},
   "outputs": [],
   "source": []
  }
 ],
 "metadata": {
  "kernelspec": {
   "display_name": "Python 3 (ipykernel)",
   "language": "python",
   "name": "python3"
  },
  "language_info": {
   "codemirror_mode": {
    "name": "ipython",
    "version": 3
   },
   "file_extension": ".py",
   "mimetype": "text/x-python",
   "name": "python",
   "nbconvert_exporter": "python",
   "pygments_lexer": "ipython3",
   "version": "3.10.6"
  }
 },
 "nbformat": 4,
 "nbformat_minor": 5
}
